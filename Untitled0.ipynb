{
  "nbformat": 4,
  "nbformat_minor": 0,
  "metadata": {
    "colab": {
      "provenance": [],
      "authorship_tag": "ABX9TyNVW6fXdyC9zOZbYMUzzg+t",
      "include_colab_link": true
    },
    "kernelspec": {
      "name": "python3",
      "display_name": "Python 3"
    },
    "language_info": {
      "name": "python"
    }
  },
  "cells": [
    {
      "cell_type": "markdown",
      "metadata": {
        "id": "view-in-github",
        "colab_type": "text"
      },
      "source": [
        "<a href=\"https://colab.research.google.com/github/aldapm/POO/blob/main/Untitled0.ipynb\" target=\"_parent\"><img src=\"https://colab.research.google.com/assets/colab-badge.svg\" alt=\"Open In Colab\"/></a>"
      ]
    },
    {
      "cell_type": "code",
      "execution_count": 10,
      "metadata": {
        "colab": {
          "base_uri": "https://localhost:8080/"
        },
        "id": "6vKMGxSB2Wkn",
        "outputId": "73d5ce24-2bdf-49a0-9b41-d8c54ee95b47"
      },
      "outputs": [
        {
          "output_type": "stream",
          "name": "stdout",
          "text": [
            "Ingresa el numero 1:43\n",
            "Ingresa el numero 2:23\n",
            "El total de la suma es: 66\n"
          ]
        }
      ],
      "source": [
        "class Suma:\n",
        "  def __init__(self):\n",
        "    self.a1=int(input(\"Ingresa el numero 1:\"))\n",
        "    self.a2=int(input(\"Ingresa el numero 2:\"))\n",
        "  def operacion (self):\n",
        "      self.comando= self.a1+self.a2\n",
        "x= Suma ()\n",
        "x.operacion()\n",
        "print (\"El total de la suma es:\", x.comando)\n"
      ]
    },
    {
      "cell_type": "markdown",
      "source": [
        "Realizado por Aldahir Pr"
      ],
      "metadata": {
        "id": "qfGINN4G5a7e"
      }
    }
  ]
}